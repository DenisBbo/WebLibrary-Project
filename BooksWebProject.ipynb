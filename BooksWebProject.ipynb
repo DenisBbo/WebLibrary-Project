{
  "nbformat": 4,
  "nbformat_minor": 0,
  "metadata": {
    "colab": {
      "provenance": []
    },
    "kernelspec": {
      "name": "python3",
      "display_name": "Python 3"
    },
    "language_info": {
      "name": "python"
    }
  },
  "cells": [
    {
      "cell_type": "code",
      "source": [
        "from google.colab import drive\n",
        "drive.mount('/content/drive')"
      ],
      "metadata": {
        "colab": {
          "base_uri": "https://localhost:8080/"
        },
        "id": "K0ROeYXBCiZu",
        "outputId": "9c70057d-d80a-47a3-a5f6-674c43006f29"
      },
      "execution_count": 653,
      "outputs": [
        {
          "output_type": "stream",
          "name": "stdout",
          "text": [
            "Drive already mounted at /content/drive; to attempt to forcibly remount, call drive.mount(\"/content/drive\", force_remount=True).\n"
          ]
        }
      ]
    },
    {
      "cell_type": "code",
      "source": [
        "import pandas as pd\n",
        "books = pd.read_csv(\"//content/drive/MyDrive/Exam/BX-Books.csv\", encoding='latin-1', delimiter=';', error_bad_lines=False)\n",
        "ratings = pd.read_csv (\"/content/drive/MyDrive/Exam/BX-Book-Ratings.csv\",encoding='latin-1', delimiter=';', error_bad_lines=False)\n",
        "users = pd.read_csv (\"/content/drive/MyDrive/Exam/BX-Users.csv\",encoding='latin-1', delimiter=';', error_bad_lines=False)              \n"
      ],
      "metadata": {
        "id": "eJCJKdq83DSn"
      },
      "execution_count": null,
      "outputs": []
    },
    {
      "cell_type": "code",
      "source": [
        "#Making column names first letter be a capital letter and replace - with _\n",
        "\n",
        "books.columns = books.columns.str.strip().str.title().str.replace('-', '_')\n",
        "users.columns = users.columns.str.strip().str.title().str.replace('-', '_')\n",
        "ratings.columns = ratings.columns.str.strip().str.title().str.replace('-', '_')"
      ],
      "metadata": {
        "id": "XYSHR2Giz2q1"
      },
      "execution_count": 655,
      "outputs": []
    },
    {
      "cell_type": "code",
      "source": [
        "age_null = users['Age'].isnull().sum() # Sums up the 1's returned by the isnull() mask\n",
        "all_users = users['User_Id'].count() # Counts the number of cells in the series (wihout the NaNs)\n",
        "\n",
        "print(f'There are {age_null} empty age values in our set of {all_users} users (or {(age_null/all_users)*100:.2f}%).')"
      ],
      "metadata": {
        "colab": {
          "base_uri": "https://localhost:8080/"
        },
        "id": "Tf9pJ4EOEnyy",
        "outputId": "5076fdc3-5dc2-4979-a7da-f07d81165643"
      },
      "execution_count": 656,
      "outputs": [
        {
          "output_type": "stream",
          "name": "stdout",
          "text": [
            "There are 110762 empty age values in our set of 278858 users (or 39.72%).\n"
          ]
        }
      ]
    },
    {
      "cell_type": "code",
      "source": [
        "#Merging the dataframes into a new dataframe to search for the best book/country\n",
        "\n",
        "books_by_country = pd.merge(books, ratings, on = 'Isbn', how='inner')\n",
        "books_by_country = pd.merge( books_by_country, users, on ='User_Id', how = 'inner')"
      ],
      "metadata": {
        "id": "dKhzjXqmxaDS"
      },
      "execution_count": 657,
      "outputs": []
    },
    {
      "cell_type": "code",
      "source": [
        "!pip install beautifulsoup4\n",
        "\n",
        "from bs4 import BeautifulSoup\n",
        "\n",
        "#I'm creating a function to convert HTML entities to Unicode characters\n",
        "\n",
        "def convert_html_entities(text):\n",
        "  # BeautifulSoup object with the input text and the 'html.parser' parser\n",
        "\n",
        "    soup = BeautifulSoup(text, 'html.parser')\n",
        "\n",
        "  #I'm using the get_text() method to extract the text without HTML tags or entities\n",
        "\n",
        "    return soup.get_text()\n",
        "\n",
        "books_by_country['Location'] = books_by_country['Location'].apply(convert_html_entities)"
      ],
      "metadata": {
        "id": "GtU66CQfILtW"
      },
      "execution_count": null,
      "outputs": []
    },
    {
      "cell_type": "code",
      "source": [
        "#Removing the * symbol from our Location column\n",
        "\n",
        "books_by_country['Location'] = books_by_country['Location'].str.replace('*', '')"
      ],
      "metadata": {
        "colab": {
          "base_uri": "https://localhost:8080/"
        },
        "id": "lRt3ukFNIQOU",
        "outputId": "e4abe1ef-d2ab-468b-bf7f-9763a1022dfd"
      },
      "execution_count": 659,
      "outputs": [
        {
          "output_type": "stream",
          "name": "stderr",
          "text": [
            "<ipython-input-659-34ee1a2d076f>:3: FutureWarning: The default value of regex will change from True to False in a future version. In addition, single character regular expressions will *not* be treated as literal strings when regex=True.\n",
            "  books_by_country['Location'] = books_by_country['Location'].str.replace('*', '')\n"
          ]
        }
      ]
    },
    {
      "cell_type": "code",
      "source": [
        "#Splitting the Location column into 3 columns so the data is easier to filter and read\n",
        "\n",
        "user_location_expanded = books_by_country['Location'].str.split(',', 2, expand=True)\n",
        "user_location_expanded.columns = ['City', 'State', 'Country']\n",
        "books_by_country = books_by_country.join(user_location_expanded)"
      ],
      "metadata": {
        "colab": {
          "base_uri": "https://localhost:8080/"
        },
        "id": "SGu2gmWDGfPe",
        "outputId": "fa86fd87-9674-4b5b-ea5d-96982f134d6b"
      },
      "execution_count": 660,
      "outputs": [
        {
          "output_type": "stream",
          "name": "stderr",
          "text": [
            "<ipython-input-660-cb5200bb0a05>:3: FutureWarning: In a future version of pandas all arguments of StringMethods.split except for the argument 'pat' will be keyword-only.\n",
            "  user_location_expanded = books_by_country['Location'].str.split(',', 2, expand=True)\n"
          ]
        }
      ]
    },
    {
      "cell_type": "code",
      "source": [
        "# Dropping the location column since we no longer need it\n",
        "\n",
        "books_by_country = books_by_country.drop(column ='Location', axis = 1)"
      ],
      "metadata": {
        "id": "FrZEBdHpyK9o"
      },
      "execution_count": 661,
      "outputs": []
    },
    {
      "cell_type": "code",
      "source": [
        "#We have too many Na values in our Country column\n",
        "\n",
        "books_by_country = books_by_country['Country'].fillna('Unknown')"
      ],
      "metadata": {
        "id": "PmpyHOF6HLm-"
      },
      "execution_count": 662,
      "outputs": []
    },
    {
      "cell_type": "code",
      "source": [
        "#Most liked books by Country\n",
        "#top_ratings = books_by_country.sort_values('Book_Rating', ascending=False)[['Book_Title', 'Country']].head(50)\n",
        "top_ratings = books_by_country.sort_values('Book_Rating', ascending=False).drop_duplicates('Country')[['Book_Title', 'Country']].head(50)\n",
        "top_ratings"
      ],
      "metadata": {
        "id": "KWVFpJ98MD6b"
      },
      "execution_count": null,
      "outputs": []
    },
    {
      "cell_type": "markdown",
      "source": [],
      "metadata": {
        "id": "P-H30_rd90FK"
      }
    },
    {
      "cell_type": "code",
      "source": [
        "#Checking the ratings and grouping the data in the ratings df\n",
        "\n",
        "#This is a very important step in our data\n",
        "user_groupby = ratings.groupby(\"User_Id\") \n",
        "book_groupby = ratings.groupby(\"Isbn\")\n",
        "\n",
        "\n",
        "average_user_rating = user_groupby[\"Book_Rating\"].mean() # This is basicly the avg number of ratings by users\n",
        "number_of_ratings_by_user = user_groupby[\"Book_Rating\"].count() # This is the number of ratings by users\n",
        "\n",
        "average_book_rating = book_groupby[\"Book_Rating\"].mean() # Avg book rating\n",
        "number_of_book_ratings = book_groupby[\"Book_Rating\"].count() # The number of book ratings\n",
        "\n",
        "#Changing the name of the columns\n",
        "average_user_rating.name = \"Avg_rating\"\n",
        "number_of_ratings_by_user.name = \"N_ratings\"\n",
        "average_book_rating.name = \"Avg_rating\"\n",
        "number_of_book_ratings.name = \"N_ratings\""
      ],
      "metadata": {
        "id": "BF7ca4fGFVoj"
      },
      "execution_count": 664,
      "outputs": []
    },
    {
      "cell_type": "code",
      "source": [
        "#Merging the data into our main dataframes\n",
        "\n",
        "users = users.join(number_of_ratings_by_user, on=\"User_Id\")\n",
        "users = users.join(average_user_rating, on=\"User_Id\")\n",
        "books = books.join(number_of_book_ratings, on=\"Isbn\")\n",
        "books = books.join(average_book_rating, on=\"Isbn\")\n"
      ],
      "metadata": {
        "id": "Nm4ASWJpMjA8"
      },
      "execution_count": 665,
      "outputs": []
    },
    {
      "cell_type": "code",
      "source": [
        "#Cleaning the data in the N_ratings columns for our books and users dataframes\n",
        "users[\"N_ratings\"] = users[\"N_ratings\"].fillna(0)\n",
        "books[\"N_ratings\"] = books[\"N_ratings\"].fillna(0)\n",
        "\n",
        "#users['N_ratings'].sort_values() -> Float, lets make it astype(int64)\n",
        "\n",
        "#Chaging the datatype from float to int so we can work easier\n",
        "\n",
        "users[\"N_ratings\"] = users[\"N_ratings\"].astype(\"int64\")\n",
        "books[\"N_ratings\"] = books[\"N_ratings\"].astype(\"int64\")"
      ],
      "metadata": {
        "id": "177-Yoz5P7uo"
      },
      "execution_count": 666,
      "outputs": []
    },
    {
      "cell_type": "code",
      "source": [
        "#The location column from Users its not that important because we are running a website, not a local shop\n",
        "#Clients can purchase whatever book they like. \n",
        "#We will just filter the most and best rated books with the most and best rated authors\n",
        "\n",
        "#books.info()\n"
      ],
      "metadata": {
        "id": "7FEpFtnBRBVC"
      },
      "execution_count": null,
      "outputs": []
    },
    {
      "cell_type": "code",
      "source": [
        "# Since we already have J.K Rowling as an author on our website \n",
        "# Lets see all the Harry Potter books and editions written by Rowling\n",
        "\n",
        "books[books[\"Book_Title\"].str.contains(\"Harry Potter\") & books[\"Book_Author\"].str.contains(\"Rowling\")]"
      ],
      "metadata": {
        "id": "wrVVbDy36lAz"
      },
      "execution_count": null,
      "outputs": []
    },
    {
      "cell_type": "code",
      "source": [
        "#Now that we have the Avg_Rating of each book, lets find the most liked ones\n",
        "\n",
        "books[['Book_Title', 'Book_Author','N_ratings','Avg_rating']].nlargest(1000, 'Avg_rating')"
      ],
      "metadata": {
        "id": "NQTwRkGdPLnu"
      },
      "execution_count": null,
      "outputs": []
    },
    {
      "cell_type": "code",
      "source": [
        "\n",
        "#Considering the fact that these books have a single rating and it's a 10/10, we must find the most ratings with the best rating\n",
        "\n",
        "#These are the best rated books but they don't have that many N_Ratings\n",
        "\n",
        "top_rated_books = books[books['Avg_rating'] > 5]\n",
        "top_rated_books = top_rated_books.nlargest(100, 'N_ratings')\n",
        "top_rated_books"
      ],
      "metadata": {
        "id": "RnNCBEzhd1so"
      },
      "execution_count": null,
      "outputs": []
    },
    {
      "cell_type": "code",
      "source": [
        "# Lets see 20 best rated books in our dataset\n",
        "\n",
        "best_20_books = books.loc[books[\"N_ratings\"] > 20].sort_values(by=\"Avg_rating\", ascending=False).head(20)\n",
        "best_20_books"
      ],
      "metadata": {
        "id": "hYEz9nFI7B5M"
      },
      "execution_count": null,
      "outputs": []
    },
    {
      "cell_type": "code",
      "source": [
        "#Lets find the most rated authors \n",
        "\n",
        "most_rated_authors = books.nlargest(30,'N_ratings')\n",
        "most_rated_authors\n",
        "\n",
        "# We found the most rated authors, but the most rated one has an Avg_Rating of 1.01 so we should not put his books on our website"
      ],
      "metadata": {
        "id": "nclp-dMDFVtD"
      },
      "execution_count": null,
      "outputs": []
    },
    {
      "cell_type": "code",
      "source": [
        "#Lets find the best rated authors with the most N_Ratings\n",
        "\n",
        "filtered_books = books.nlargest(60,'N_ratings')\n",
        "\n",
        "best_rated_authors = filtered_books.groupby('Book_Author')['Avg_rating'].mean().nlargest(60).reset_index(name='Avg_rating')\n",
        "best_rated_authors\n",
        "\n",
        "#Knowing how many N_Ratings the books have, we can assume that these books are the most bought too!"
      ],
      "metadata": {
        "id": "B-B7Lj4-XLIG"
      },
      "execution_count": null,
      "outputs": []
    },
    {
      "cell_type": "code",
      "source": [
        "#Using API to find a description for our best_rated_authors\n",
        "\n",
        "!pip install Wikipedia-API\n",
        "import wikipediaapi\n",
        "import requests\n",
        "\n",
        "\n",
        "wiki_api = wikipediaapi.Wikipedia('en')\n",
        "\n",
        "\n",
        "# Function to fetch author description from Wikipedia API\n",
        "def fetch_author_description(author):\n",
        "    url = f\"https://en.wikipedia.org/api/rest_v1/page/summary/{author}\"\n",
        "    try:\n",
        "        response = requests.get(url)\n",
        "        response_json = response.json()\n",
        "        description = response_json.get('extract')\n",
        "        return description\n",
        "    except requests.exceptions.RequestException as e:\n",
        "        print(f\"Error occurred while fetching description for {author}: {e}\")\n",
        "        return None\n",
        "\n",
        "# Adding a new column 'Author-Description' to the dataframe\n",
        "best_rated_authors['Author_Description'] = best_rated_authors['Book_Author'].apply(fetch_author_description)\n",
        "\n",
        "best_rated_authors"
      ],
      "metadata": {
        "id": "ih3HuzIlFVv4"
      },
      "execution_count": null,
      "outputs": []
    },
    {
      "cell_type": "code",
      "source": [
        "#Using a function to get the book description\n",
        "\n",
        "def fetch_book_description(title):\n",
        "    url = f\"https://en.wikipedia.org/api/rest_v1/page/summary/{title}\"\n",
        "    try:\n",
        "        response = requests.get(url)\n",
        "        response_json = response.json()\n",
        "        description = response_json.get('extract')\n",
        "        return description\n",
        "    except requests.exceptions.RequestException as e:\n",
        "        print(f\"Error occurred while fetching description for {title}: {e}\")\n",
        "        return None\n",
        "\n",
        "# Adding a new column 'Book-Description' to the dataframe\n",
        "top_rated_books['Book_Description'] = top_rated_books['Book_Title'].apply(fetch_book_description)\n",
        "\n",
        "print(top_rated_books)"
      ],
      "metadata": {
        "id": "ePmV6aiBLSdW"
      },
      "execution_count": null,
      "outputs": []
    },
    {
      "cell_type": "code",
      "source": [
        "#Trying another function to see if we get more descriptions for our books\n",
        "\n",
        "def get_book_description(title):\n",
        "    page = wiki_api.page(title)\n",
        "    if page.exists():\n",
        "        return page.summary\n",
        "    else:\n",
        "        return \"Description not found\"\n",
        "\n",
        "# Add a new column for book descriptions\n",
        "top_rated_books['Book-Description'] = top_rated_books['Book_Title'].apply(get_book_description)\n",
        "\n",
        "# Display the updated dataframe\n",
        "print(top_rated_books[['Book_Title', 'Book_Description']])"
      ],
      "metadata": {
        "colab": {
          "base_uri": "https://localhost:8080/"
        },
        "id": "OL7lFvSOMGFt",
        "outputId": "bd515f64-5009-44da-b7bd-765feb457e3a"
      },
      "execution_count": 676,
      "outputs": [
        {
          "output_type": "stream",
          "name": "stdout",
          "text": [
            "                                              Book_Title  \\\n",
            "5506   Harry Potter and the Order of the Phoenix (Boo...   \n",
            "3354   The Hobbit : The Enchanting Prelude to The Lor...   \n",
            "6330   Harry Potter and the Prisoner of Azkaban (Book 3)   \n",
            "3839   Harry Potter and the Prisoner of Azkaban (Book 3)   \n",
            "2232       Ender's Game (Ender Wiggins Saga (Paperback))   \n",
            "...                                                  ...   \n",
            "7582   Narcissus in Chains (Anita Blake Vampire Hunte...   \n",
            "15511                      Complete Chronicles of Narnia   \n",
            "19879  The Kingdom by the Sea: A Journey Around the C...   \n",
            "65641                               The Narrows: A Novel   \n",
            "3003                                          Truth, The   \n",
            "\n",
            "              Book_Description  \n",
            "5506                      None  \n",
            "3354                      None  \n",
            "6330                      None  \n",
            "3839                      None  \n",
            "2232                      None  \n",
            "...                        ...  \n",
            "7582                      None  \n",
            "15511                     None  \n",
            "19879                     None  \n",
            "65641                     None  \n",
            "3003   The Truth may refer to:  \n",
            "\n",
            "[100 rows x 2 columns]\n"
          ]
        }
      ]
    },
    {
      "cell_type": "code",
      "source": [
        "# get_book_description function got me some more descriptions for our Book-Description column.\n",
        "\n",
        "top_books_desc = top_rated_books[top_rated_books['Book_Description'] != 'Description not found']\n",
        "top_books_desc"
      ],
      "metadata": {
        "colab": {
          "base_uri": "https://localhost:8080/",
          "height": 1000
        },
        "id": "ryQ8ZZ0lrdWY",
        "outputId": "05027e09-cbcf-483d-d6e5-a1ff9f3e5ec7"
      },
      "execution_count": 677,
      "outputs": [
        {
          "output_type": "execute_result",
          "data": {
            "text/plain": [
              "             Isbn                                         Book_Title  \\\n",
              "5506   043935806X  Harry Potter and the Order of the Phoenix (Boo...   \n",
              "3354   0345339681  The Hobbit : The Enchanting Prelude to The Lor...   \n",
              "6330   0439136369  Harry Potter and the Prisoner of Azkaban (Book 3)   \n",
              "3839   0439136350  Harry Potter and the Prisoner of Azkaban (Book 3)   \n",
              "2232   0812550706      Ender's Game (Ender Wiggins Saga (Paperback))   \n",
              "...           ...                                                ...   \n",
              "7582   0425181685  Narcissus in Chains (Anita Blake Vampire Hunte...   \n",
              "15511  0066238501                      Complete Chronicles of Narnia   \n",
              "19879  0140071814  The Kingdom by the Sea: A Journey Around the C...   \n",
              "65641  0316155306                               The Narrows: A Novel   \n",
              "3003   0380818191                                         Truth, The   \n",
              "\n",
              "               Book_Author Year_Of_Publication                     Publisher  \\\n",
              "5506         J. K. Rowling                2003                    Scholastic   \n",
              "3354        J.R.R. TOLKIEN                1986                       Del Rey   \n",
              "6330         J. K. Rowling                2001                    Scholastic   \n",
              "3839         J. K. Rowling                1999                    Scholastic   \n",
              "2232      Orson Scott Card                1994                     Tor Books   \n",
              "...                    ...                 ...                           ...   \n",
              "7582   Laurell K. Hamilton                2001      Berkley Publishing Group   \n",
              "15511          C. S. Lewis                2001  Harpercollins Juvenile Books   \n",
              "19879         Paul Theroux                1995                 Penguin Books   \n",
              "65641     Michael Connelly                2004                 Little, Brown   \n",
              "3003       Terry Pratchett                2001                   HarperTorch   \n",
              "\n",
              "                                             Image_Url_S  \\\n",
              "5506   http://images.amazon.com/images/P/043935806X.0...   \n",
              "3354   http://images.amazon.com/images/P/0345339681.0...   \n",
              "6330   http://images.amazon.com/images/P/0439136369.0...   \n",
              "3839   http://images.amazon.com/images/P/0439136350.0...   \n",
              "2232   http://images.amazon.com/images/P/0812550706.0...   \n",
              "...                                                  ...   \n",
              "7582   http://images.amazon.com/images/P/0425181685.0...   \n",
              "15511  http://images.amazon.com/images/P/0066238501.0...   \n",
              "19879  http://images.amazon.com/images/P/0140071814.0...   \n",
              "65641  http://images.amazon.com/images/P/0316155306.0...   \n",
              "3003   http://images.amazon.com/images/P/0380818191.0...   \n",
              "\n",
              "                                             Image_Url_M  \\\n",
              "5506   http://images.amazon.com/images/P/043935806X.0...   \n",
              "3354   http://images.amazon.com/images/P/0345339681.0...   \n",
              "6330   http://images.amazon.com/images/P/0439136369.0...   \n",
              "3839   http://images.amazon.com/images/P/0439136350.0...   \n",
              "2232   http://images.amazon.com/images/P/0812550706.0...   \n",
              "...                                                  ...   \n",
              "7582   http://images.amazon.com/images/P/0425181685.0...   \n",
              "15511  http://images.amazon.com/images/P/0066238501.0...   \n",
              "19879  http://images.amazon.com/images/P/0140071814.0...   \n",
              "65641  http://images.amazon.com/images/P/0316155306.0...   \n",
              "3003   http://images.amazon.com/images/P/0380818191.0...   \n",
              "\n",
              "                                             Image_Url_L  N_ratings  \\\n",
              "5506   http://images.amazon.com/images/P/043935806X.0...        334   \n",
              "3354   http://images.amazon.com/images/P/0345339681.0...        281   \n",
              "6330   http://images.amazon.com/images/P/0439136369.0...        226   \n",
              "3839   http://images.amazon.com/images/P/0439136350.0...        197   \n",
              "2232   http://images.amazon.com/images/P/0812550706.0...        195   \n",
              "...                                                  ...        ...   \n",
              "7582   http://images.amazon.com/images/P/0425181685.0...         29   \n",
              "15511  http://images.amazon.com/images/P/0066238501.0...         29   \n",
              "19879  http://images.amazon.com/images/P/0140071814.0...         29   \n",
              "65641  http://images.amazon.com/images/P/0316155306.0...         29   \n",
              "3003   http://images.amazon.com/images/P/0380818191.0...         28   \n",
              "\n",
              "       Avg_rating         Book_Description         Book-Description  \n",
              "5506     5.571856                     None    Description not found  \n",
              "3354     5.007117                     None    Description not found  \n",
              "6330     5.345133                     None    Description not found  \n",
              "3839     6.467005                     None    Description not found  \n",
              "2232     5.302564                     None    Description not found  \n",
              "...           ...                      ...                      ...  \n",
              "7582     5.448276                     None    Description not found  \n",
              "15511    5.862069                     None    Description not found  \n",
              "19879    5.344828                     None    Description not found  \n",
              "65641    5.517241                     None    Description not found  \n",
              "3003     5.357143  The Truth may refer to:  The Truth may refer to:  \n",
              "\n",
              "[100 rows x 12 columns]"
            ],
            "text/html": [
              "\n",
              "  <div id=\"df-443f55fa-ec66-49c6-89a9-5e5008b785c6\">\n",
              "    <div class=\"colab-df-container\">\n",
              "      <div>\n",
              "<style scoped>\n",
              "    .dataframe tbody tr th:only-of-type {\n",
              "        vertical-align: middle;\n",
              "    }\n",
              "\n",
              "    .dataframe tbody tr th {\n",
              "        vertical-align: top;\n",
              "    }\n",
              "\n",
              "    .dataframe thead th {\n",
              "        text-align: right;\n",
              "    }\n",
              "</style>\n",
              "<table border=\"1\" class=\"dataframe\">\n",
              "  <thead>\n",
              "    <tr style=\"text-align: right;\">\n",
              "      <th></th>\n",
              "      <th>Isbn</th>\n",
              "      <th>Book_Title</th>\n",
              "      <th>Book_Author</th>\n",
              "      <th>Year_Of_Publication</th>\n",
              "      <th>Publisher</th>\n",
              "      <th>Image_Url_S</th>\n",
              "      <th>Image_Url_M</th>\n",
              "      <th>Image_Url_L</th>\n",
              "      <th>N_ratings</th>\n",
              "      <th>Avg_rating</th>\n",
              "      <th>Book_Description</th>\n",
              "      <th>Book-Description</th>\n",
              "    </tr>\n",
              "  </thead>\n",
              "  <tbody>\n",
              "    <tr>\n",
              "      <th>5506</th>\n",
              "      <td>043935806X</td>\n",
              "      <td>Harry Potter and the Order of the Phoenix (Boo...</td>\n",
              "      <td>J. K. Rowling</td>\n",
              "      <td>2003</td>\n",
              "      <td>Scholastic</td>\n",
              "      <td>http://images.amazon.com/images/P/043935806X.0...</td>\n",
              "      <td>http://images.amazon.com/images/P/043935806X.0...</td>\n",
              "      <td>http://images.amazon.com/images/P/043935806X.0...</td>\n",
              "      <td>334</td>\n",
              "      <td>5.571856</td>\n",
              "      <td>None</td>\n",
              "      <td>Description not found</td>\n",
              "    </tr>\n",
              "    <tr>\n",
              "      <th>3354</th>\n",
              "      <td>0345339681</td>\n",
              "      <td>The Hobbit : The Enchanting Prelude to The Lor...</td>\n",
              "      <td>J.R.R. TOLKIEN</td>\n",
              "      <td>1986</td>\n",
              "      <td>Del Rey</td>\n",
              "      <td>http://images.amazon.com/images/P/0345339681.0...</td>\n",
              "      <td>http://images.amazon.com/images/P/0345339681.0...</td>\n",
              "      <td>http://images.amazon.com/images/P/0345339681.0...</td>\n",
              "      <td>281</td>\n",
              "      <td>5.007117</td>\n",
              "      <td>None</td>\n",
              "      <td>Description not found</td>\n",
              "    </tr>\n",
              "    <tr>\n",
              "      <th>6330</th>\n",
              "      <td>0439136369</td>\n",
              "      <td>Harry Potter and the Prisoner of Azkaban (Book 3)</td>\n",
              "      <td>J. K. Rowling</td>\n",
              "      <td>2001</td>\n",
              "      <td>Scholastic</td>\n",
              "      <td>http://images.amazon.com/images/P/0439136369.0...</td>\n",
              "      <td>http://images.amazon.com/images/P/0439136369.0...</td>\n",
              "      <td>http://images.amazon.com/images/P/0439136369.0...</td>\n",
              "      <td>226</td>\n",
              "      <td>5.345133</td>\n",
              "      <td>None</td>\n",
              "      <td>Description not found</td>\n",
              "    </tr>\n",
              "    <tr>\n",
              "      <th>3839</th>\n",
              "      <td>0439136350</td>\n",
              "      <td>Harry Potter and the Prisoner of Azkaban (Book 3)</td>\n",
              "      <td>J. K. Rowling</td>\n",
              "      <td>1999</td>\n",
              "      <td>Scholastic</td>\n",
              "      <td>http://images.amazon.com/images/P/0439136350.0...</td>\n",
              "      <td>http://images.amazon.com/images/P/0439136350.0...</td>\n",
              "      <td>http://images.amazon.com/images/P/0439136350.0...</td>\n",
              "      <td>197</td>\n",
              "      <td>6.467005</td>\n",
              "      <td>None</td>\n",
              "      <td>Description not found</td>\n",
              "    </tr>\n",
              "    <tr>\n",
              "      <th>2232</th>\n",
              "      <td>0812550706</td>\n",
              "      <td>Ender's Game (Ender Wiggins Saga (Paperback))</td>\n",
              "      <td>Orson Scott Card</td>\n",
              "      <td>1994</td>\n",
              "      <td>Tor Books</td>\n",
              "      <td>http://images.amazon.com/images/P/0812550706.0...</td>\n",
              "      <td>http://images.amazon.com/images/P/0812550706.0...</td>\n",
              "      <td>http://images.amazon.com/images/P/0812550706.0...</td>\n",
              "      <td>195</td>\n",
              "      <td>5.302564</td>\n",
              "      <td>None</td>\n",
              "      <td>Description not found</td>\n",
              "    </tr>\n",
              "    <tr>\n",
              "      <th>...</th>\n",
              "      <td>...</td>\n",
              "      <td>...</td>\n",
              "      <td>...</td>\n",
              "      <td>...</td>\n",
              "      <td>...</td>\n",
              "      <td>...</td>\n",
              "      <td>...</td>\n",
              "      <td>...</td>\n",
              "      <td>...</td>\n",
              "      <td>...</td>\n",
              "      <td>...</td>\n",
              "      <td>...</td>\n",
              "    </tr>\n",
              "    <tr>\n",
              "      <th>7582</th>\n",
              "      <td>0425181685</td>\n",
              "      <td>Narcissus in Chains (Anita Blake Vampire Hunte...</td>\n",
              "      <td>Laurell K. Hamilton</td>\n",
              "      <td>2001</td>\n",
              "      <td>Berkley Publishing Group</td>\n",
              "      <td>http://images.amazon.com/images/P/0425181685.0...</td>\n",
              "      <td>http://images.amazon.com/images/P/0425181685.0...</td>\n",
              "      <td>http://images.amazon.com/images/P/0425181685.0...</td>\n",
              "      <td>29</td>\n",
              "      <td>5.448276</td>\n",
              "      <td>None</td>\n",
              "      <td>Description not found</td>\n",
              "    </tr>\n",
              "    <tr>\n",
              "      <th>15511</th>\n",
              "      <td>0066238501</td>\n",
              "      <td>Complete Chronicles of Narnia</td>\n",
              "      <td>C. S. Lewis</td>\n",
              "      <td>2001</td>\n",
              "      <td>Harpercollins Juvenile Books</td>\n",
              "      <td>http://images.amazon.com/images/P/0066238501.0...</td>\n",
              "      <td>http://images.amazon.com/images/P/0066238501.0...</td>\n",
              "      <td>http://images.amazon.com/images/P/0066238501.0...</td>\n",
              "      <td>29</td>\n",
              "      <td>5.862069</td>\n",
              "      <td>None</td>\n",
              "      <td>Description not found</td>\n",
              "    </tr>\n",
              "    <tr>\n",
              "      <th>19879</th>\n",
              "      <td>0140071814</td>\n",
              "      <td>The Kingdom by the Sea: A Journey Around the C...</td>\n",
              "      <td>Paul Theroux</td>\n",
              "      <td>1995</td>\n",
              "      <td>Penguin Books</td>\n",
              "      <td>http://images.amazon.com/images/P/0140071814.0...</td>\n",
              "      <td>http://images.amazon.com/images/P/0140071814.0...</td>\n",
              "      <td>http://images.amazon.com/images/P/0140071814.0...</td>\n",
              "      <td>29</td>\n",
              "      <td>5.344828</td>\n",
              "      <td>None</td>\n",
              "      <td>Description not found</td>\n",
              "    </tr>\n",
              "    <tr>\n",
              "      <th>65641</th>\n",
              "      <td>0316155306</td>\n",
              "      <td>The Narrows: A Novel</td>\n",
              "      <td>Michael Connelly</td>\n",
              "      <td>2004</td>\n",
              "      <td>Little, Brown</td>\n",
              "      <td>http://images.amazon.com/images/P/0316155306.0...</td>\n",
              "      <td>http://images.amazon.com/images/P/0316155306.0...</td>\n",
              "      <td>http://images.amazon.com/images/P/0316155306.0...</td>\n",
              "      <td>29</td>\n",
              "      <td>5.517241</td>\n",
              "      <td>None</td>\n",
              "      <td>Description not found</td>\n",
              "    </tr>\n",
              "    <tr>\n",
              "      <th>3003</th>\n",
              "      <td>0380818191</td>\n",
              "      <td>Truth, The</td>\n",
              "      <td>Terry Pratchett</td>\n",
              "      <td>2001</td>\n",
              "      <td>HarperTorch</td>\n",
              "      <td>http://images.amazon.com/images/P/0380818191.0...</td>\n",
              "      <td>http://images.amazon.com/images/P/0380818191.0...</td>\n",
              "      <td>http://images.amazon.com/images/P/0380818191.0...</td>\n",
              "      <td>28</td>\n",
              "      <td>5.357143</td>\n",
              "      <td>The Truth may refer to:</td>\n",
              "      <td>The Truth may refer to:</td>\n",
              "    </tr>\n",
              "  </tbody>\n",
              "</table>\n",
              "<p>100 rows × 12 columns</p>\n",
              "</div>\n",
              "      <button class=\"colab-df-convert\" onclick=\"convertToInteractive('df-443f55fa-ec66-49c6-89a9-5e5008b785c6')\"\n",
              "              title=\"Convert this dataframe to an interactive table.\"\n",
              "              style=\"display:none;\">\n",
              "        \n",
              "  <svg xmlns=\"http://www.w3.org/2000/svg\" height=\"24px\"viewBox=\"0 0 24 24\"\n",
              "       width=\"24px\">\n",
              "    <path d=\"M0 0h24v24H0V0z\" fill=\"none\"/>\n",
              "    <path d=\"M18.56 5.44l.94 2.06.94-2.06 2.06-.94-2.06-.94-.94-2.06-.94 2.06-2.06.94zm-11 1L8.5 8.5l.94-2.06 2.06-.94-2.06-.94L8.5 2.5l-.94 2.06-2.06.94zm10 10l.94 2.06.94-2.06 2.06-.94-2.06-.94-.94-2.06-.94 2.06-2.06.94z\"/><path d=\"M17.41 7.96l-1.37-1.37c-.4-.4-.92-.59-1.43-.59-.52 0-1.04.2-1.43.59L10.3 9.45l-7.72 7.72c-.78.78-.78 2.05 0 2.83L4 21.41c.39.39.9.59 1.41.59.51 0 1.02-.2 1.41-.59l7.78-7.78 2.81-2.81c.8-.78.8-2.07 0-2.86zM5.41 20L4 18.59l7.72-7.72 1.47 1.35L5.41 20z\"/>\n",
              "  </svg>\n",
              "      </button>\n",
              "      \n",
              "  <style>\n",
              "    .colab-df-container {\n",
              "      display:flex;\n",
              "      flex-wrap:wrap;\n",
              "      gap: 12px;\n",
              "    }\n",
              "\n",
              "    .colab-df-convert {\n",
              "      background-color: #E8F0FE;\n",
              "      border: none;\n",
              "      border-radius: 50%;\n",
              "      cursor: pointer;\n",
              "      display: none;\n",
              "      fill: #1967D2;\n",
              "      height: 32px;\n",
              "      padding: 0 0 0 0;\n",
              "      width: 32px;\n",
              "    }\n",
              "\n",
              "    .colab-df-convert:hover {\n",
              "      background-color: #E2EBFA;\n",
              "      box-shadow: 0px 1px 2px rgba(60, 64, 67, 0.3), 0px 1px 3px 1px rgba(60, 64, 67, 0.15);\n",
              "      fill: #174EA6;\n",
              "    }\n",
              "\n",
              "    [theme=dark] .colab-df-convert {\n",
              "      background-color: #3B4455;\n",
              "      fill: #D2E3FC;\n",
              "    }\n",
              "\n",
              "    [theme=dark] .colab-df-convert:hover {\n",
              "      background-color: #434B5C;\n",
              "      box-shadow: 0px 1px 3px 1px rgba(0, 0, 0, 0.15);\n",
              "      filter: drop-shadow(0px 1px 2px rgba(0, 0, 0, 0.3));\n",
              "      fill: #FFFFFF;\n",
              "    }\n",
              "  </style>\n",
              "\n",
              "      <script>\n",
              "        const buttonEl =\n",
              "          document.querySelector('#df-443f55fa-ec66-49c6-89a9-5e5008b785c6 button.colab-df-convert');\n",
              "        buttonEl.style.display =\n",
              "          google.colab.kernel.accessAllowed ? 'block' : 'none';\n",
              "\n",
              "        async function convertToInteractive(key) {\n",
              "          const element = document.querySelector('#df-443f55fa-ec66-49c6-89a9-5e5008b785c6');\n",
              "          const dataTable =\n",
              "            await google.colab.kernel.invokeFunction('convertToInteractive',\n",
              "                                                     [key], {});\n",
              "          if (!dataTable) return;\n",
              "\n",
              "          const docLinkHtml = 'Like what you see? Visit the ' +\n",
              "            '<a target=\"_blank\" href=https://colab.research.google.com/notebooks/data_table.ipynb>data table notebook</a>'\n",
              "            + ' to learn more about interactive tables.';\n",
              "          element.innerHTML = '';\n",
              "          dataTable['output_type'] = 'display_data';\n",
              "          await google.colab.output.renderOutput(dataTable, element);\n",
              "          const docLink = document.createElement('div');\n",
              "          docLink.innerHTML = docLinkHtml;\n",
              "          element.appendChild(docLink);\n",
              "        }\n",
              "      </script>\n",
              "    </div>\n",
              "  </div>\n",
              "  "
            ]
          },
          "metadata": {},
          "execution_count": 677
        }
      ]
    },
    {
      "cell_type": "code",
      "source": [],
      "metadata": {
        "id": "xRMW6GVDrouJ"
      },
      "execution_count": 677,
      "outputs": []
    },
    {
      "cell_type": "code",
      "source": [],
      "metadata": {
        "id": "FK0SN0NvsJMC"
      },
      "execution_count": 677,
      "outputs": []
    }
  ]
}